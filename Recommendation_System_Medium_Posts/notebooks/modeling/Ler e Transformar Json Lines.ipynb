{
 "cells": [
  {
   "cell_type": "markdown",
   "metadata": {},
   "source": [
    "### Limpeza Inicial\n",
    "Esse notebook recebe os dataset bruto em *json lines* produzidos pelo **Scrapy**, onde realiza a primeira limpeza necessária."
   ]
  },
  {
   "cell_type": "code",
   "execution_count": 15,
   "metadata": {},
   "outputs": [],
   "source": [
    "#IMPORTAÇÃO DE BIBLIOTECAS\n",
    "import pandas as pd\n",
    "import unicodedata"
   ]
  },
  {
   "cell_type": "code",
   "execution_count": 3,
   "metadata": {},
   "outputs": [],
   "source": [
    "dados = pd.read_json(\"dados_brutos_08072020.jl\", lines=True)"
   ]
  },
  {
   "cell_type": "code",
   "execution_count": 4,
   "metadata": {},
   "outputs": [
    {
     "data": {
      "text/html": [
       "<div>\n",
       "<style scoped>\n",
       "    .dataframe tbody tr th:only-of-type {\n",
       "        vertical-align: middle;\n",
       "    }\n",
       "\n",
       "    .dataframe tbody tr th {\n",
       "        vertical-align: top;\n",
       "    }\n",
       "\n",
       "    .dataframe thead th {\n",
       "        text-align: right;\n",
       "    }\n",
       "</style>\n",
       "<table border=\"1\" class=\"dataframe\">\n",
       "  <thead>\n",
       "    <tr style=\"text-align: right;\">\n",
       "      <th></th>\n",
       "      <th>comments</th>\n",
       "      <th>key_word</th>\n",
       "      <th>link</th>\n",
       "      <th>page</th>\n",
       "      <th>palms</th>\n",
       "      <th>reading_time</th>\n",
       "      <th>title</th>\n",
       "    </tr>\n",
       "  </thead>\n",
       "  <tbody>\n",
       "    <tr>\n",
       "      <th>0</th>\n",
       "      <td>64 responses</td>\n",
       "      <td>Data%20Science</td>\n",
       "      <td>https://towardsdatascience.com/how-to-learn-da...</td>\n",
       "      <td>1</td>\n",
       "      <td>21K</td>\n",
       "      <td>9 min read</td>\n",
       "      <td>How To Learn Data Science If You’re Broke</td>\n",
       "    </tr>\n",
       "    <tr>\n",
       "      <th>1</th>\n",
       "      <td>77 responses</td>\n",
       "      <td>Data%20Science</td>\n",
       "      <td>https://towardsdatascience.com/how-to-build-a-...</td>\n",
       "      <td>1</td>\n",
       "      <td>17.8K</td>\n",
       "      <td>18 min read</td>\n",
       "      <td>How to Build a Data Science Portfolio</td>\n",
       "    </tr>\n",
       "    <tr>\n",
       "      <th>2</th>\n",
       "      <td>75 responses</td>\n",
       "      <td>Data%20Science</td>\n",
       "      <td>https://medium.com/civis-analytics/the-best-ma...</td>\n",
       "      <td>1</td>\n",
       "      <td>19.2K</td>\n",
       "      <td>6 min read</td>\n",
       "      <td>The best Mario Kart character according to dat...</td>\n",
       "    </tr>\n",
       "    <tr>\n",
       "      <th>3</th>\n",
       "      <td>51 responses</td>\n",
       "      <td>Data%20Science</td>\n",
       "      <td>https://medium.com/free-code-camp/if-you-want-...</td>\n",
       "      <td>1</td>\n",
       "      <td>7.2K</td>\n",
       "      <td>14 min read</td>\n",
       "      <td>If you want to learn Data Science, start with ...</td>\n",
       "    </tr>\n",
       "    <tr>\n",
       "      <th>4</th>\n",
       "      <td>21 responses</td>\n",
       "      <td>Data%20Science</td>\n",
       "      <td>https://towardsdatascience.com/essential-math-...</td>\n",
       "      <td>1</td>\n",
       "      <td>13.4K</td>\n",
       "      <td>8 min read</td>\n",
       "      <td>Essential Math for Data Science</td>\n",
       "    </tr>\n",
       "  </tbody>\n",
       "</table>\n",
       "</div>"
      ],
      "text/plain": [
       "       comments        key_word  \\\n",
       "0  64 responses  Data%20Science   \n",
       "1  77 responses  Data%20Science   \n",
       "2  75 responses  Data%20Science   \n",
       "3  51 responses  Data%20Science   \n",
       "4  21 responses  Data%20Science   \n",
       "\n",
       "                                                link  page  palms  \\\n",
       "0  https://towardsdatascience.com/how-to-learn-da...     1    21K   \n",
       "1  https://towardsdatascience.com/how-to-build-a-...     1  17.8K   \n",
       "2  https://medium.com/civis-analytics/the-best-ma...     1  19.2K   \n",
       "3  https://medium.com/free-code-camp/if-you-want-...     1   7.2K   \n",
       "4  https://towardsdatascience.com/essential-math-...     1  13.4K   \n",
       "\n",
       "  reading_time                                              title  \n",
       "0   9 min read          How To Learn Data Science If You’re Broke  \n",
       "1  18 min read              How to Build a Data Science Portfolio  \n",
       "2   6 min read  The best Mario Kart character according to dat...  \n",
       "3  14 min read  If you want to learn Data Science, start with ...  \n",
       "4   8 min read                    Essential Math for Data Science  "
      ]
     },
     "execution_count": 4,
     "metadata": {},
     "output_type": "execute_result"
    }
   ],
   "source": [
    "dados.head()"
   ]
  },
  {
   "cell_type": "code",
   "execution_count": 6,
   "metadata": {},
   "outputs": [
    {
     "name": "stdout",
     "output_type": "stream",
     "text": [
      "How To Learn Data Science If You’re Broke\n"
     ]
    }
   ],
   "source": [
    "print(dados['title'][0])"
   ]
  },
  {
   "cell_type": "code",
   "execution_count": 7,
   "metadata": {
    "scrolled": true
   },
   "outputs": [
    {
     "data": {
      "text/plain": [
       "'How To Learn Data Science If You’re\\xa0Broke'"
      ]
     },
     "execution_count": 7,
     "metadata": {},
     "output_type": "execute_result"
    }
   ],
   "source": [
    "dados['title'][0]"
   ]
  },
  {
   "cell_type": "code",
   "execution_count": 34,
   "metadata": {},
   "outputs": [],
   "source": [
    "def remove_characters(title):\n",
    "    return unicodedata.normalize(\"NFKD\", title)\n",
    "dados['title'] = dados['title'].apply(remove_characters)"
   ]
  },
  {
   "cell_type": "code",
   "execution_count": 41,
   "metadata": {},
   "outputs": [
    {
     "data": {
      "text/plain": [
       "'How To Learn Data Science If You’re Broke'"
      ]
     },
     "execution_count": 41,
     "metadata": {},
     "output_type": "execute_result"
    }
   ],
   "source": [
    "dados['title'][0]"
   ]
  },
  {
   "cell_type": "code",
   "execution_count": 44,
   "metadata": {},
   "outputs": [],
   "source": [
    "dados.to_csv(\"dados.csv\")"
   ]
  },
  {
   "cell_type": "code",
   "execution_count": null,
   "metadata": {},
   "outputs": [],
   "source": []
  }
 ],
 "metadata": {
  "kernelspec": {
   "display_name": "Python 3",
   "language": "python",
   "name": "python3"
  },
  "language_info": {
   "codemirror_mode": {
    "name": "ipython",
    "version": 3
   },
   "file_extension": ".py",
   "mimetype": "text/x-python",
   "name": "python",
   "nbconvert_exporter": "python",
   "pygments_lexer": "ipython3",
   "version": "3.7.3"
  }
 },
 "nbformat": 4,
 "nbformat_minor": 2
}
